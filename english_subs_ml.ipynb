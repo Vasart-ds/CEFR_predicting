{
 "cells": [
  {
   "cell_type": "markdown",
   "id": "38f077e0",
   "metadata": {},
   "source": [
    "## Вступление ##"
   ]
  },
  {
   "cell_type": "markdown",
   "id": "2d932a82",
   "metadata": {},
   "source": [
    "Доброго дня!\n",
    "\n",
    "Многие мечтают выучить иностранный язык и лучшим для этого способом является общение с носителями языка. Однако такая возможность - редкость и настоящий подарок. Здесь на помощь придут иностранные фильмы и сериалы, но как понять, какой фильм или сериал подойдет вам по уровню знаний?\n",
    "\n",
    "Здесь нам поможет машинное обучение и модель, которая сможет предсказывать уровень владения языком, необходимый для восприятия диалогов по наличию тех или иных слов в составе субтитров. В нашем случае мы будем использовать систему классификации *CEFR* для **английского языка**.\n",
    "\n",
    "Меня зовут **Васюхин Артём** и мы начинаем."
   ]
  },
  {
   "cell_type": "markdown",
   "id": "ed690994",
   "metadata": {},
   "source": [
    "## Импорт расширений, библиотек и датасета ##"
   ]
  },
  {
   "cell_type": "code",
   "execution_count": 1,
   "id": "7d0191ea",
   "metadata": {},
   "outputs": [],
   "source": [
    "# установим необходимые расширения для работы с субтитрами и английским языком\n",
    "\n",
    "#!pip install pysrt\n",
    "#!pip install pymystem3\n",
    "#!pip install catboost"
   ]
  },
  {
   "cell_type": "code",
   "execution_count": 2,
   "id": "6d6c4691",
   "metadata": {},
   "outputs": [],
   "source": [
    "#!pip install spacy"
   ]
  },
  {
   "cell_type": "code",
   "execution_count": 3,
   "id": "d12476f1",
   "metadata": {},
   "outputs": [],
   "source": [
    "# !pip install https://github.com/explosion/spacy-models/releases/download/en_core_web_sm-3.0.0/en_core_web_sm-3.0.0-py3-none-any.whl"
   ]
  },
  {
   "cell_type": "code",
   "execution_count": 4,
   "id": "3a2bf748",
   "metadata": {},
   "outputs": [
    {
     "name": "stderr",
     "output_type": "stream",
     "text": [
      "[nltk_data] Downloading package stopwords to\n",
      "[nltk_data]     C:\\Users\\Uzver\\AppData\\Roaming\\nltk_data...\n",
      "[nltk_data]   Package stopwords is already up-to-date!\n",
      "[nltk_data] Downloading package punkt to\n",
      "[nltk_data]     C:\\Users\\Uzver\\AppData\\Roaming\\nltk_data...\n",
      "[nltk_data]   Package punkt is already up-to-date!\n"
     ]
    }
   ],
   "source": [
    "# импортируем стандартные библиотеки\n",
    "import pandas as pd\n",
    "import numpy as np\n",
    "import matplotlib.pyplot as plt\n",
    "\n",
    "import re\n",
    "import glob\n",
    "import os\n",
    "\n",
    "# библиотеки для работы с NLP - Natural Language Processing\n",
    "import pysrt\n",
    "import nltk\n",
    "nltk.download('stopwords')\n",
    "nltk.download('punkt')\n",
    "from nltk.corpus import stopwords\n",
    "from nltk.tokenize import word_tokenize\n",
    "from pymystem3 import Mystem\n",
    "from tqdm import tqdm\n",
    "from sklearn.feature_extraction.text import TfidfVectorizer\n",
    "from imblearn.under_sampling import NearMiss\n",
    "\n",
    "# библиотеки ML\n",
    "from sklearn.model_selection import train_test_split, GridSearchCV\n",
    "from sklearn.ensemble import RandomForestClassifier\n",
    "from catboost import CatBoostClassifier, Pool\n",
    "from sklearn.pipeline import Pipeline, make_pipeline\n",
    "from sklearn.model_selection import GridSearchCV\n",
    "from sklearn.metrics import f1_score, accuracy_score, confusion_matrix, ConfusionMatrixDisplay\n",
    "\n",
    "# библиотеки разбивки текста и его векторизации\n",
    "from nltk.stem import WordNetLemmatizer\n",
    "from sklearn.feature_extraction.text import CountVectorizer\n",
    "import spacy\n",
    "\n",
    "# библиотека выгрузки ML-моделей\n",
    "import joblib"
   ]
  },
  {
   "cell_type": "code",
   "execution_count": 5,
   "id": "a1cd539a",
   "metadata": {},
   "outputs": [],
   "source": [
    "# импортируем датасет\n",
    "df = pd.read_excel('movies_labels.xlsx')"
   ]
  },
  {
   "cell_type": "code",
   "execution_count": 6,
   "id": "34014a98",
   "metadata": {
    "scrolled": false
   },
   "outputs": [
    {
     "data": {
      "text/html": [
       "<div>\n",
       "<style scoped>\n",
       "    .dataframe tbody tr th:only-of-type {\n",
       "        vertical-align: middle;\n",
       "    }\n",
       "\n",
       "    .dataframe tbody tr th {\n",
       "        vertical-align: top;\n",
       "    }\n",
       "\n",
       "    .dataframe thead th {\n",
       "        text-align: right;\n",
       "    }\n",
       "</style>\n",
       "<table border=\"1\" class=\"dataframe\">\n",
       "  <thead>\n",
       "    <tr style=\"text-align: right;\">\n",
       "      <th></th>\n",
       "      <th>id</th>\n",
       "      <th>Movie</th>\n",
       "      <th>Level</th>\n",
       "    </tr>\n",
       "  </thead>\n",
       "  <tbody>\n",
       "    <tr>\n",
       "      <th>0</th>\n",
       "      <td>0</td>\n",
       "      <td>10_Cloverfield_lane(2016)</td>\n",
       "      <td>B1</td>\n",
       "    </tr>\n",
       "    <tr>\n",
       "      <th>1</th>\n",
       "      <td>1</td>\n",
       "      <td>10_things_I_hate_about_you(1999)</td>\n",
       "      <td>B1</td>\n",
       "    </tr>\n",
       "    <tr>\n",
       "      <th>2</th>\n",
       "      <td>2</td>\n",
       "      <td>A_knights_tale(2001)</td>\n",
       "      <td>B2</td>\n",
       "    </tr>\n",
       "    <tr>\n",
       "      <th>3</th>\n",
       "      <td>3</td>\n",
       "      <td>A_star_is_born(2018)</td>\n",
       "      <td>B2</td>\n",
       "    </tr>\n",
       "    <tr>\n",
       "      <th>4</th>\n",
       "      <td>4</td>\n",
       "      <td>Aladdin(1992)</td>\n",
       "      <td>A2/A2+</td>\n",
       "    </tr>\n",
       "    <tr>\n",
       "      <th>...</th>\n",
       "      <td>...</td>\n",
       "      <td>...</td>\n",
       "      <td>...</td>\n",
       "    </tr>\n",
       "    <tr>\n",
       "      <th>236</th>\n",
       "      <td>236</td>\n",
       "      <td>Matilda(2022)</td>\n",
       "      <td>C1</td>\n",
       "    </tr>\n",
       "    <tr>\n",
       "      <th>237</th>\n",
       "      <td>237</td>\n",
       "      <td>Bullet train</td>\n",
       "      <td>B1</td>\n",
       "    </tr>\n",
       "    <tr>\n",
       "      <th>238</th>\n",
       "      <td>238</td>\n",
       "      <td>Thor: love and thunder</td>\n",
       "      <td>B2</td>\n",
       "    </tr>\n",
       "    <tr>\n",
       "      <th>239</th>\n",
       "      <td>239</td>\n",
       "      <td>Lightyear</td>\n",
       "      <td>B2</td>\n",
       "    </tr>\n",
       "    <tr>\n",
       "      <th>240</th>\n",
       "      <td>240</td>\n",
       "      <td>The Grinch</td>\n",
       "      <td>B1</td>\n",
       "    </tr>\n",
       "  </tbody>\n",
       "</table>\n",
       "<p>241 rows × 3 columns</p>\n",
       "</div>"
      ],
      "text/plain": [
       "      id                             Movie   Level\n",
       "0      0         10_Cloverfield_lane(2016)      B1\n",
       "1      1  10_things_I_hate_about_you(1999)      B1\n",
       "2      2              A_knights_tale(2001)      B2\n",
       "3      3              A_star_is_born(2018)      B2\n",
       "4      4                     Aladdin(1992)  A2/A2+\n",
       "..   ...                               ...     ...\n",
       "236  236                     Matilda(2022)      C1\n",
       "237  237                      Bullet train      B1\n",
       "238  238            Thor: love and thunder      B2\n",
       "239  239                         Lightyear      B2\n",
       "240  240                        The Grinch      B1\n",
       "\n",
       "[241 rows x 3 columns]"
      ]
     },
     "execution_count": 6,
     "metadata": {},
     "output_type": "execute_result"
    }
   ],
   "source": [
    "df"
   ]
  },
  {
   "cell_type": "code",
   "execution_count": 7,
   "id": "e1655122",
   "metadata": {},
   "outputs": [],
   "source": [
    "# приведем названия колонок к нижнему регистру\n",
    "df = df.rename(columns={'Movie': 'movie', 'Level': 'level'})"
   ]
  },
  {
   "cell_type": "code",
   "execution_count": 8,
   "id": "91bacf3a",
   "metadata": {},
   "outputs": [
    {
     "name": "stdout",
     "output_type": "stream",
     "text": [
      "<class 'pandas.core.frame.DataFrame'>\n",
      "RangeIndex: 241 entries, 0 to 240\n",
      "Data columns (total 3 columns):\n",
      " #   Column  Non-Null Count  Dtype \n",
      "---  ------  --------------  ----- \n",
      " 0   id      241 non-null    int64 \n",
      " 1   movie   241 non-null    object\n",
      " 2   level   241 non-null    object\n",
      "dtypes: int64(1), object(2)\n",
      "memory usage: 5.8+ KB\n"
     ]
    }
   ],
   "source": [
    "# посмотрим основную информацию о датасете\n",
    "df.info()"
   ]
  },
  {
   "cell_type": "code",
   "execution_count": 12,
   "id": "1983fb32",
   "metadata": {},
   "outputs": [
    {
     "data": {
      "text/plain": [
       "Powder(1995)                 2\n",
       "The_terminal(2004)           2\n",
       "The_blind_side(2009)         2\n",
       "Inside_out(2015)             2\n",
       "10_Cloverfield_lane(2016)    1\n",
       "                            ..\n",
       "The_hangover(2009)           1\n",
       "The_holiday(2006)            1\n",
       "The_invisible_man(2020)      1\n",
       "The_jungle_book(2016)        1\n",
       "The Grinch                   1\n",
       "Name: movie, Length: 237, dtype: int64"
      ]
     },
     "execution_count": 12,
     "metadata": {},
     "output_type": "execute_result"
    }
   ],
   "source": [
    "# проверим значения колонки movie\n",
    "df['movie'].value_counts()"
   ]
  },
  {
   "cell_type": "markdown",
   "id": "297b6150",
   "metadata": {},
   "source": [
    "При проверке значений сразу были обнаружены дубликаты."
   ]
  },
  {
   "cell_type": "code",
   "execution_count": 13,
   "id": "6f1a035b",
   "metadata": {
    "scrolled": false
   },
   "outputs": [
    {
     "data": {
      "text/plain": [
       "B2            101\n",
       "B1             55\n",
       "C1             40\n",
       "A2/A2+         26\n",
       "B1, B2          8\n",
       "A2              6\n",
       "A2/A2+, B1      5\n",
       "Name: level, dtype: int64"
      ]
     },
     "metadata": {},
     "output_type": "display_data"
    },
    {
     "data": {
      "image/png": "[encoded data removed]",
      "text/plain": [
       "<Figure size 640x480 with 1 Axes>"
      ]
     },
     "metadata": {},
     "output_type": "display_data"
    }
   ],
   "source": [
    "# отобразим распределение классов  \n",
    "display(df['level'].value_counts())\n",
    "df['level'].value_counts().plot(kind='barh', color='g');"
   ]
  },
  {
   "cell_type": "markdown",
   "id": "d707e265",
   "metadata": {},
   "source": [
    "На диаграмме видно, что необходимо корректно изменить категории, разделив фильмы из смежных категорий по основным уровням знания языка."
   ]
  },
  {
   "cell_type": "code",
   "execution_count": 14,
   "id": "1a5d6d2f",
   "metadata": {},
   "outputs": [],
   "source": [
    "df['level'] = df['level'].replace('A2/A2+, B1', 'B1')\n",
    "df['level'] = df['level'].replace('A2/A2+', 'B1')\n",
    "df['level'] = df['level'].replace('B1, B2', 'C1')"
   ]
  },
  {
   "cell_type": "code",
   "execution_count": 15,
   "id": "d5051242",
   "metadata": {},
   "outputs": [
    {
     "data": {
      "text/plain": [
       "B2    101\n",
       "B1     86\n",
       "C1     48\n",
       "A2      6\n",
       "Name: level, dtype: int64"
      ]
     },
     "metadata": {},
     "output_type": "display_data"
    },
    {
     "data": {
      "image/png": "[encoded data removed]",
      "text/plain": [
       "<Figure size 640x480 with 1 Axes>"
      ]
     },
     "metadata": {},
     "output_type": "display_data"
    }
   ],
   "source": [
    "display(df['level'].value_counts())\n",
    "df['level'].value_counts().plot(kind='barh', color='g');"
   ]
  },
  {
   "cell_type": "code",
   "execution_count": 16,
   "id": "4f3d130a",
   "metadata": {},
   "outputs": [
    {
     "data": {
      "text/html": [
       "<div>\n",
       "<style scoped>\n",
       "    .dataframe tbody tr th:only-of-type {\n",
       "        vertical-align: middle;\n",
       "    }\n",
       "\n",
       "    .dataframe tbody tr th {\n",
       "        vertical-align: top;\n",
       "    }\n",
       "\n",
       "    .dataframe thead th {\n",
       "        text-align: right;\n",
       "    }\n",
       "</style>\n",
       "<table border=\"1\" class=\"dataframe\">\n",
       "  <thead>\n",
       "    <tr style=\"text-align: right;\">\n",
       "      <th></th>\n",
       "      <th>id</th>\n",
       "      <th>movie</th>\n",
       "      <th>level</th>\n",
       "    </tr>\n",
       "  </thead>\n",
       "  <tbody>\n",
       "    <tr>\n",
       "      <th>44</th>\n",
       "      <td>44</td>\n",
       "      <td>Inside_out(2015)</td>\n",
       "      <td>B1</td>\n",
       "    </tr>\n",
       "    <tr>\n",
       "      <th>68</th>\n",
       "      <td>68</td>\n",
       "      <td>Powder(1995)</td>\n",
       "      <td>B1</td>\n",
       "    </tr>\n",
       "    <tr>\n",
       "      <th>84</th>\n",
       "      <td>84</td>\n",
       "      <td>The_blind_side(2009)</td>\n",
       "      <td>B1</td>\n",
       "    </tr>\n",
       "    <tr>\n",
       "      <th>99</th>\n",
       "      <td>99</td>\n",
       "      <td>The_terminal(2004)</td>\n",
       "      <td>B1</td>\n",
       "    </tr>\n",
       "  </tbody>\n",
       "</table>\n",
       "</div>"
      ],
      "text/plain": [
       "    id                 movie level\n",
       "44  44      Inside_out(2015)    B1\n",
       "68  68          Powder(1995)    B1\n",
       "84  84  The_blind_side(2009)    B1\n",
       "99  99    The_terminal(2004)    B1"
      ]
     },
     "execution_count": 16,
     "metadata": {},
     "output_type": "execute_result"
    }
   ],
   "source": [
    "# проверим фрейм на дубликаты\n",
    "df[df['movie'].duplicated()]"
   ]
  },
  {
   "cell_type": "code",
   "execution_count": 17,
   "id": "2ffe331c",
   "metadata": {
    "scrolled": true
   },
   "outputs": [
    {
     "data": {
      "text/html": [
       "<div>\n",
       "<style scoped>\n",
       "    .dataframe tbody tr th:only-of-type {\n",
       "        vertical-align: middle;\n",
       "    }\n",
       "\n",
       "    .dataframe tbody tr th {\n",
       "        vertical-align: top;\n",
       "    }\n",
       "\n",
       "    .dataframe thead th {\n",
       "        text-align: right;\n",
       "    }\n",
       "</style>\n",
       "<table border=\"1\" class=\"dataframe\">\n",
       "  <thead>\n",
       "    <tr style=\"text-align: right;\">\n",
       "      <th></th>\n",
       "      <th>id</th>\n",
       "      <th>movie</th>\n",
       "      <th>level</th>\n",
       "    </tr>\n",
       "  </thead>\n",
       "  <tbody>\n",
       "  </tbody>\n",
       "</table>\n",
       "</div>"
      ],
      "text/plain": [
       "Empty DataFrame\n",
       "Columns: [id, movie, level]\n",
       "Index: []"
      ]
     },
     "execution_count": 17,
     "metadata": {},
     "output_type": "execute_result"
    }
   ],
   "source": [
    "# удалим найденные дубли\n",
    "df = df.drop_duplicates(subset = 'movie')\n",
    "df[df['movie'].duplicated()]"
   ]
  },
  {
   "cell_type": "code",
   "execution_count": 18,
   "id": "24a5f8a7",
   "metadata": {},
   "outputs": [],
   "source": [
    "# создадим датафрейм из названий фильмов в одной колонке\n",
    "# субтитров к ним в другой\n",
    "# и уровня знания языка в третьей\n",
    "\n",
    "def import_subtitles(relative_path, level): \n",
    "    films = os.listdir(path = relative_path + '/')\n",
    "    sub_labels = []\n",
    "    data = {}\n",
    "    \n",
    "    # цикл для парсинга файлов субтитров\n",
    "    for label in range(len(films)):\n",
    "        sub_labels = pysrt.open(relative_path + '/' + films[label], encoding = 'iso-8859-1')\n",
    "        subs = []\n",
    "    # цикл для добавления текстов сутбтитров без разделителей\n",
    "        for sub in sub_labels:\n",
    "            subs.append(sub.text_without_tags.split('\\n'))\n",
    "        data[films[label]] = subs\n",
    "\n",
    "    # формируем датафрейм из названия файла с субтитрами и субтитрами    \n",
    "    data = pd.DataFrame({'movie': films, \n",
    "                         'subtitles': data.values(), \n",
    "                         'level': level}) \n",
    "    \n",
    "    # удаление расширения файла из выдачи\n",
    "    data['movie'] = [i[:-4] for i in data['movie']] \n",
    "    \n",
    "    return data"
   ]
  },
  {
   "cell_type": "code",
   "execution_count": 19,
   "id": "9ae1705f",
   "metadata": {},
   "outputs": [
    {
     "data": {
      "text/html": [
       "<div>\n",
       "<style scoped>\n",
       "    .dataframe tbody tr th:only-of-type {\n",
       "        vertical-align: middle;\n",
       "    }\n",
       "\n",
       "    .dataframe tbody tr th {\n",
       "        vertical-align: top;\n",
       "    }\n",
       "\n",
       "    .dataframe thead th {\n",
       "        text-align: right;\n",
       "    }\n",
       "</style>\n",
       "<table border=\"1\" class=\"dataframe\">\n",
       "  <thead>\n",
       "    <tr style=\"text-align: right;\">\n",
       "      <th></th>\n",
       "      <th>movie</th>\n",
       "      <th>subtitles</th>\n",
       "      <th>level</th>\n",
       "    </tr>\n",
       "  </thead>\n",
       "  <tbody>\n",
       "    <tr>\n",
       "      <th>0</th>\n",
       "      <td>Downton Abbey - S01E01 - Episode 1.eng.SDH</td>\n",
       "      <td>[[[TELEGRAPH MACHINE BEEPING]], [[TRAIN WHISTL...</td>\n",
       "      <td>C1</td>\n",
       "    </tr>\n",
       "    <tr>\n",
       "      <th>1</th>\n",
       "      <td>Downton Abbey - S01E02 - Episode 2.eng.SDH</td>\n",
       "      <td>[[Here we are, ma'am, Crawley House.], [For go...</td>\n",
       "      <td>C1</td>\n",
       "    </tr>\n",
       "    <tr>\n",
       "      <th>2</th>\n",
       "      <td>Downton Abbey - S01E03 - Episode 3.eng.SDH</td>\n",
       "      <td>[[There you are, Mr. Bates., It's in. Came thi...</td>\n",
       "      <td>C1</td>\n",
       "    </tr>\n",
       "    <tr>\n",
       "      <th>3</th>\n",
       "      <td>Downton Abbey - S01E04 - Episode 4.eng.SDH</td>\n",
       "      <td>[[[HAMMERING]], [-When does it open?, -Tomorro...</td>\n",
       "      <td>C1</td>\n",
       "    </tr>\n",
       "    <tr>\n",
       "      <th>4</th>\n",
       "      <td>Downton Abbey - S01E05 - Episode 5.eng.SDH</td>\n",
       "      <td>[[[GASPS]], [You made me jump.], [Daisy, what ...</td>\n",
       "      <td>C1</td>\n",
       "    </tr>\n",
       "    <tr>\n",
       "      <th>5</th>\n",
       "      <td>Downton Abbey - S01E06 - Episode 6.eng.SDH</td>\n",
       "      <td>[[Last June saw Emily Davison, crushed to deat...</td>\n",
       "      <td>C1</td>\n",
       "    </tr>\n",
       "    <tr>\n",
       "      <th>6</th>\n",
       "      <td>Downton Abbey - S01E07 - Episode 7.eng.SDH</td>\n",
       "      <td>[[MRS HUGHES: Hurry up girls, come on.], [Come...</td>\n",
       "      <td>C1</td>\n",
       "    </tr>\n",
       "    <tr>\n",
       "      <th>7</th>\n",
       "      <td>Suits S04E01 EngSub</td>\n",
       "      <td>[]</td>\n",
       "      <td>C1</td>\n",
       "    </tr>\n",
       "    <tr>\n",
       "      <th>8</th>\n",
       "      <td>Suits S04E02 EngSub</td>\n",
       "      <td>[]</td>\n",
       "      <td>C1</td>\n",
       "    </tr>\n",
       "    <tr>\n",
       "      <th>9</th>\n",
       "      <td>Suits S04E03 EngSub</td>\n",
       "      <td>[]</td>\n",
       "      <td>C1</td>\n",
       "    </tr>\n",
       "    <tr>\n",
       "      <th>10</th>\n",
       "      <td>Suits S04E04 EngSub</td>\n",
       "      <td>[]</td>\n",
       "      <td>C1</td>\n",
       "    </tr>\n",
       "    <tr>\n",
       "      <th>11</th>\n",
       "      <td>Suits S04E05 EngSub</td>\n",
       "      <td>[]</td>\n",
       "      <td>C1</td>\n",
       "    </tr>\n",
       "    <tr>\n",
       "      <th>12</th>\n",
       "      <td>Suits S04E06 EngSub</td>\n",
       "      <td>[]</td>\n",
       "      <td>C1</td>\n",
       "    </tr>\n",
       "    <tr>\n",
       "      <th>13</th>\n",
       "      <td>Suits S04E07 EngSub</td>\n",
       "      <td>[]</td>\n",
       "      <td>C1</td>\n",
       "    </tr>\n",
       "    <tr>\n",
       "      <th>14</th>\n",
       "      <td>Suits S04E08 EngSub</td>\n",
       "      <td>[]</td>\n",
       "      <td>C1</td>\n",
       "    </tr>\n",
       "    <tr>\n",
       "      <th>15</th>\n",
       "      <td>Suits S04E09 EngSub</td>\n",
       "      <td>[]</td>\n",
       "      <td>C1</td>\n",
       "    </tr>\n",
       "    <tr>\n",
       "      <th>16</th>\n",
       "      <td>Suits S04E10 EngSub</td>\n",
       "      <td>[]</td>\n",
       "      <td>C1</td>\n",
       "    </tr>\n",
       "    <tr>\n",
       "      <th>17</th>\n",
       "      <td>Suits S04E11 EngSub</td>\n",
       "      <td>[]</td>\n",
       "      <td>C1</td>\n",
       "    </tr>\n",
       "    <tr>\n",
       "      <th>18</th>\n",
       "      <td>Suits S04E12 EngSub</td>\n",
       "      <td>[]</td>\n",
       "      <td>C1</td>\n",
       "    </tr>\n",
       "    <tr>\n",
       "      <th>19</th>\n",
       "      <td>Suits S04E13 EngSub</td>\n",
       "      <td>[]</td>\n",
       "      <td>C1</td>\n",
       "    </tr>\n",
       "    <tr>\n",
       "      <th>20</th>\n",
       "      <td>Suits S04E14 EngSub</td>\n",
       "      <td>[]</td>\n",
       "      <td>C1</td>\n",
       "    </tr>\n",
       "    <tr>\n",
       "      <th>21</th>\n",
       "      <td>Suits S04E15 EngSub</td>\n",
       "      <td>[]</td>\n",
       "      <td>C1</td>\n",
       "    </tr>\n",
       "    <tr>\n",
       "      <th>22</th>\n",
       "      <td>Suits S04E16 EngSub</td>\n",
       "      <td>[]</td>\n",
       "      <td>C1</td>\n",
       "    </tr>\n",
       "    <tr>\n",
       "      <th>23</th>\n",
       "      <td>Suits.S03E01.480pHDTV.x264-mSD</td>\n",
       "      <td>[[You lose,, we don't merge.], [You win,, you ...</td>\n",
       "      <td>C1</td>\n",
       "    </tr>\n",
       "    <tr>\n",
       "      <th>24</th>\n",
       "      <td>Suits.S03E02.720pHDTV.x264-mSD</td>\n",
       "      <td>[[Previously on Suits...], [You're guilty of b...</td>\n",
       "      <td>C1</td>\n",
       "    </tr>\n",
       "    <tr>\n",
       "      <th>25</th>\n",
       "      <td>Suits.S03E03.480pHDTV.x264-mSD</td>\n",
       "      <td>[[Previously on Suits...], [Katrina Bennett.],...</td>\n",
       "      <td>C1</td>\n",
       "    </tr>\n",
       "    <tr>\n",
       "      <th>26</th>\n",
       "      <td>Suits.S03E04.480pHDTV.x264-mSD</td>\n",
       "      <td>[[Ava Hessington,, you're under arrest.], [Con...</td>\n",
       "      <td>C1</td>\n",
       "    </tr>\n",
       "    <tr>\n",
       "      <th>27</th>\n",
       "      <td>Suits.S03E05.480p.HDTV.x264-mSD</td>\n",
       "      <td>[[I'm looking at a bribe,, plain as day.], [Th...</td>\n",
       "      <td>C1</td>\n",
       "    </tr>\n",
       "    <tr>\n",
       "      <th>28</th>\n",
       "      <td>Suits.S03E06.720p.HDTV.x264-mSD</td>\n",
       "      <td>[[I lost Ava her company.], [I assume my deal,...</td>\n",
       "      <td>C1</td>\n",
       "    </tr>\n",
       "    <tr>\n",
       "      <th>29</th>\n",
       "      <td>Suits.S03E07.HDTV.x264-mSD</td>\n",
       "      <td>[[Previously on, Suits...], [It's going up, on...</td>\n",
       "      <td>C1</td>\n",
       "    </tr>\n",
       "    <tr>\n",
       "      <th>30</th>\n",
       "      <td>Suits.S03E08.480p.HDTV.x264-mSD</td>\n",
       "      <td>[[I get Ava Hessington acquitted,], [Darby bac...</td>\n",
       "      <td>C1</td>\n",
       "    </tr>\n",
       "    <tr>\n",
       "      <th>31</th>\n",
       "      <td>Suits.S03E09.480p.HDTV.x264-mSD</td>\n",
       "      <td>[[Previously on, Suits...], [I'm bonding, with...</td>\n",
       "      <td>C1</td>\n",
       "    </tr>\n",
       "    <tr>\n",
       "      <th>32</th>\n",
       "      <td>Suits.S03E10.HDTV.x264-mSD</td>\n",
       "      <td>[[Previously on, Suits...], [This is a copy of...</td>\n",
       "      <td>C1</td>\n",
       "    </tr>\n",
       "  </tbody>\n",
       "</table>\n",
       "</div>"
      ],
      "text/plain": [
       "                                         movie  \\\n",
       "0   Downton Abbey - S01E01 - Episode 1.eng.SDH   \n",
       "1   Downton Abbey - S01E02 - Episode 2.eng.SDH   \n",
       "2   Downton Abbey - S01E03 - Episode 3.eng.SDH   \n",
       "3   Downton Abbey - S01E04 - Episode 4.eng.SDH   \n",
       "4   Downton Abbey - S01E05 - Episode 5.eng.SDH   \n",
       "5   Downton Abbey - S01E06 - Episode 6.eng.SDH   \n",
       "6   Downton Abbey - S01E07 - Episode 7.eng.SDH   \n",
       "7                          Suits S04E01 EngSub   \n",
       "8                          Suits S04E02 EngSub   \n",
       "9                          Suits S04E03 EngSub   \n",
       "10                         Suits S04E04 EngSub   \n",
       "11                         Suits S04E05 EngSub   \n",
       "12                         Suits S04E06 EngSub   \n",
       "13                         Suits S04E07 EngSub   \n",
       "14                         Suits S04E08 EngSub   \n",
       "15                         Suits S04E09 EngSub   \n",
       "16                         Suits S04E10 EngSub   \n",
       "17                         Suits S04E11 EngSub   \n",
       "18                         Suits S04E12 EngSub   \n",
       "19                         Suits S04E13 EngSub   \n",
       "20                         Suits S04E14 EngSub   \n",
       "21                         Suits S04E15 EngSub   \n",
       "22                         Suits S04E16 EngSub   \n",
       "23              Suits.S03E01.480pHDTV.x264-mSD   \n",
       "24              Suits.S03E02.720pHDTV.x264-mSD   \n",
       "25              Suits.S03E03.480pHDTV.x264-mSD   \n",
       "26              Suits.S03E04.480pHDTV.x264-mSD   \n",
       "27             Suits.S03E05.480p.HDTV.x264-mSD   \n",
       "28             Suits.S03E06.720p.HDTV.x264-mSD   \n",
       "29                  Suits.S03E07.HDTV.x264-mSD   \n",
       "30             Suits.S03E08.480p.HDTV.x264-mSD   \n",
       "31             Suits.S03E09.480p.HDTV.x264-mSD   \n",
       "32                  Suits.S03E10.HDTV.x264-mSD   \n",
       "\n",
       "                                            subtitles level  \n",
       "0   [[[TELEGRAPH MACHINE BEEPING]], [[TRAIN WHISTL...    C1  \n",
       "1   [[Here we are, ma'am, Crawley House.], [For go...    C1  \n",
       "2   [[There you are, Mr. Bates., It's in. Came thi...    C1  \n",
       "3   [[[HAMMERING]], [-When does it open?, -Tomorro...    C1  \n",
       "4   [[[GASPS]], [You made me jump.], [Daisy, what ...    C1  \n",
       "5   [[Last June saw Emily Davison, crushed to deat...    C1  \n",
       "6   [[MRS HUGHES: Hurry up girls, come on.], [Come...    C1  \n",
       "7                                                  []    C1  \n",
       "8                                                  []    C1  \n",
       "9                                                  []    C1  \n",
       "10                                                 []    C1  \n",
       "11                                                 []    C1  \n",
       "12                                                 []    C1  \n",
       "13                                                 []    C1  \n",
       "14                                                 []    C1  \n",
       "15                                                 []    C1  \n",
       "16                                                 []    C1  \n",
       "17                                                 []    C1  \n",
       "18                                                 []    C1  \n",
       "19                                                 []    C1  \n",
       "20                                                 []    C1  \n",
       "21                                                 []    C1  \n",
       "22                                                 []    C1  \n",
       "23  [[You lose,, we don't merge.], [You win,, you ...    C1  \n",
       "24  [[Previously on Suits...], [You're guilty of b...    C1  \n",
       "25  [[Previously on Suits...], [Katrina Bennett.],...    C1  \n",
       "26  [[Ava Hessington,, you're under arrest.], [Con...    C1  \n",
       "27  [[I'm looking at a bribe,, plain as day.], [Th...    C1  \n",
       "28  [[I lost Ava her company.], [I assume my deal,...    C1  \n",
       "29  [[Previously on, Suits...], [It's going up, on...    C1  \n",
       "30  [[I get Ava Hessington acquitted,], [Darby bac...    C1  \n",
       "31  [[Previously on, Suits...], [I'm bonding, with...    C1  \n",
       "32  [[Previously on, Suits...], [This is a copy of...    C1  "
      ]
     },
     "execution_count": 19,
     "metadata": {},
     "output_type": "execute_result"
    }
   ],
   "source": [
    "# протестируем работу нашей функции\n",
    "\n",
    "import_subtitles('Subtitles_all/C1', 'C1')"
   ]
  },
  {
   "cell_type": "code",
   "execution_count": 20,
   "id": "2007feae",
   "metadata": {},
   "outputs": [],
   "source": [
    "# импортируем все субтитры\n",
    "\n",
    "a_2 = import_subtitles('Subtitles_all/A2', 'A2')\n",
    "b_1 = import_subtitles('Subtitles_all/B1', 'B1')\n",
    "b_2 = import_subtitles('Subtitles_all/B2', 'B2')\n",
    "c_1 = import_subtitles('Subtitles_all/C1', 'C1')\n",
    "subs_all = import_subtitles('Subtitles_all/Subtitles', None)"
   ]
  },
  {
   "cell_type": "code",
   "execution_count": 21,
   "id": "4ddd2d6c",
   "metadata": {
    "scrolled": false
   },
   "outputs": [
    {
     "data": {
      "text/html": [
       "<div>\n",
       "<style scoped>\n",
       "    .dataframe tbody tr th:only-of-type {\n",
       "        vertical-align: middle;\n",
       "    }\n",
       "\n",
       "    .dataframe tbody tr th {\n",
       "        vertical-align: top;\n",
       "    }\n",
       "\n",
       "    .dataframe thead th {\n",
       "        text-align: right;\n",
       "    }\n",
       "</style>\n",
       "<table border=\"1\" class=\"dataframe\">\n",
       "  <thead>\n",
       "    <tr style=\"text-align: right;\">\n",
       "      <th></th>\n",
       "      <th>movie</th>\n",
       "      <th>subtitles</th>\n",
       "      <th>level</th>\n",
       "    </tr>\n",
       "  </thead>\n",
       "  <tbody>\n",
       "    <tr>\n",
       "      <th>0</th>\n",
       "      <td>The Walking Dead-S01E01-Days Gone Bye.English</td>\n",
       "      <td>[[( bugs chittering )], [( brakes squeak )], [...</td>\n",
       "      <td>A2</td>\n",
       "    </tr>\n",
       "    <tr>\n",
       "      <th>1</th>\n",
       "      <td>The Walking Dead-S01E02-Guts.English</td>\n",
       "      <td>[[- ( birds chirping ), - ( bugs chittering )]...</td>\n",
       "      <td>A2</td>\n",
       "    </tr>\n",
       "    <tr>\n",
       "      <th>2</th>\n",
       "      <td>The Walking Dead-S01E03-Tell It To The Frogs.E...</td>\n",
       "      <td>[[( thunder rumbling )], [Merle:, That's right...</td>\n",
       "      <td>A2</td>\n",
       "    </tr>\n",
       "    <tr>\n",
       "      <th>3</th>\n",
       "      <td>The Walking Dead-S01E04-Vatos.English</td>\n",
       "      <td>[[( birds chirping )], [- What?, - Nothing.], ...</td>\n",
       "      <td>A2</td>\n",
       "    </tr>\n",
       "    <tr>\n",
       "      <th>4</th>\n",
       "      <td>The Walking Dead-S01E05-Wildfire.English</td>\n",
       "      <td>[[- ( walkie-talkie squawks ), - Rick: Morgan,...</td>\n",
       "      <td>A2</td>\n",
       "    </tr>\n",
       "    <tr>\n",
       "      <th>...</th>\n",
       "      <td>...</td>\n",
       "      <td>...</td>\n",
       "      <td>...</td>\n",
       "    </tr>\n",
       "    <tr>\n",
       "      <th>274</th>\n",
       "      <td>Warm_bodies(2013)</td>\n",
       "      <td>[[What am I doing, with my life?], [I'm so pal...</td>\n",
       "      <td>None</td>\n",
       "    </tr>\n",
       "    <tr>\n",
       "      <th>275</th>\n",
       "      <td>Westworld_scenes_of_Dr_Robert_Ford</td>\n",
       "      <td>[[[Music]], [no one's complained], [[Music]], ...</td>\n",
       "      <td>None</td>\n",
       "    </tr>\n",
       "    <tr>\n",
       "      <th>276</th>\n",
       "      <td>We_are_the_Millers(2013)</td>\n",
       "      <td>[[Oh, my God...], [...it's full-on double rain...</td>\n",
       "      <td>None</td>\n",
       "    </tr>\n",
       "    <tr>\n",
       "      <th>277</th>\n",
       "      <td>While_You_Were_Sleeping(1995)</td>\n",
       "      <td>[[LUCY: Okay, there are two things that, I rem...</td>\n",
       "      <td>None</td>\n",
       "    </tr>\n",
       "    <tr>\n",
       "      <th>278</th>\n",
       "      <td>Zootopia(2016)</td>\n",
       "      <td>[[Fear. Treachery Bloodlust.], [Thousands of y...</td>\n",
       "      <td>None</td>\n",
       "    </tr>\n",
       "  </tbody>\n",
       "</table>\n",
       "<p>279 rows × 3 columns</p>\n",
       "</div>"
      ],
      "text/plain": [
       "                                                 movie  \\\n",
       "0        The Walking Dead-S01E01-Days Gone Bye.English   \n",
       "1                 The Walking Dead-S01E02-Guts.English   \n",
       "2    The Walking Dead-S01E03-Tell It To The Frogs.E...   \n",
       "3                The Walking Dead-S01E04-Vatos.English   \n",
       "4             The Walking Dead-S01E05-Wildfire.English   \n",
       "..                                                 ...   \n",
       "274                                  Warm_bodies(2013)   \n",
       "275                 Westworld_scenes_of_Dr_Robert_Ford   \n",
       "276                           We_are_the_Millers(2013)   \n",
       "277                      While_You_Were_Sleeping(1995)   \n",
       "278                                     Zootopia(2016)   \n",
       "\n",
       "                                             subtitles level  \n",
       "0    [[( bugs chittering )], [( brakes squeak )], [...    A2  \n",
       "1    [[- ( birds chirping ), - ( bugs chittering )]...    A2  \n",
       "2    [[( thunder rumbling )], [Merle:, That's right...    A2  \n",
       "3    [[( birds chirping )], [- What?, - Nothing.], ...    A2  \n",
       "4    [[- ( walkie-talkie squawks ), - Rick: Morgan,...    A2  \n",
       "..                                                 ...   ...  \n",
       "274  [[What am I doing, with my life?], [I'm so pal...  None  \n",
       "275  [[[Music]], [no one's complained], [[Music]], ...  None  \n",
       "276  [[Oh, my God...], [...it's full-on double rain...  None  \n",
       "277  [[LUCY: Okay, there are two things that, I rem...  None  \n",
       "278  [[Fear. Treachery Bloodlust.], [Thousands of y...  None  \n",
       "\n",
       "[279 rows x 3 columns]"
      ]
     },
     "execution_count": 21,
     "metadata": {},
     "output_type": "execute_result"
    }
   ],
   "source": [
    "total_subs = pd.concat([a_2, b_1, b_2, c_1, subs_all], ignore_index = True)\n",
    "total_subs"
   ]
  },
  {
   "cell_type": "code",
   "execution_count": 22,
   "id": "413bf925",
   "metadata": {},
   "outputs": [
    {
     "data": {
      "text/html": [
       "<div>\n",
       "<style scoped>\n",
       "    .dataframe tbody tr th:only-of-type {\n",
       "        vertical-align: middle;\n",
       "    }\n",
       "\n",
       "    .dataframe tbody tr th {\n",
       "        vertical-align: top;\n",
       "    }\n",
       "\n",
       "    .dataframe thead th {\n",
       "        text-align: right;\n",
       "    }\n",
       "</style>\n",
       "<table border=\"1\" class=\"dataframe\">\n",
       "  <thead>\n",
       "    <tr style=\"text-align: right;\">\n",
       "      <th></th>\n",
       "      <th>movie</th>\n",
       "      <th>level</th>\n",
       "    </tr>\n",
       "  </thead>\n",
       "  <tbody>\n",
       "    <tr>\n",
       "      <th>0</th>\n",
       "      <td>10_Cloverfield_lane(2016)</td>\n",
       "      <td>B1</td>\n",
       "    </tr>\n",
       "    <tr>\n",
       "      <th>1</th>\n",
       "      <td>10_things_I_hate_about_you(1999)</td>\n",
       "      <td>B1</td>\n",
       "    </tr>\n",
       "    <tr>\n",
       "      <th>2</th>\n",
       "      <td>A_knights_tale(2001)</td>\n",
       "      <td>B2</td>\n",
       "    </tr>\n",
       "    <tr>\n",
       "      <th>3</th>\n",
       "      <td>A_star_is_born(2018)</td>\n",
       "      <td>B2</td>\n",
       "    </tr>\n",
       "    <tr>\n",
       "      <th>4</th>\n",
       "      <td>Aladdin(1992)</td>\n",
       "      <td>B1</td>\n",
       "    </tr>\n",
       "  </tbody>\n",
       "</table>\n",
       "</div>"
      ],
      "text/plain": [
       "                              movie level\n",
       "0         10_Cloverfield_lane(2016)    B1\n",
       "1  10_things_I_hate_about_you(1999)    B1\n",
       "2              A_knights_tale(2001)    B2\n",
       "3              A_star_is_born(2018)    B2\n",
       "4                     Aladdin(1992)    B1"
      ]
     },
     "execution_count": 22,
     "metadata": {},
     "output_type": "execute_result"
    }
   ],
   "source": [
    "# избавимся от колонки id\n",
    "df = df.drop('id', axis=1)\n",
    "df.head()"
   ]
  },
  {
   "cell_type": "code",
   "execution_count": 23,
   "id": "61381163",
   "metadata": {},
   "outputs": [
    {
     "data": {
      "text/html": [
       "<div>\n",
       "<style scoped>\n",
       "    .dataframe tbody tr th:only-of-type {\n",
       "        vertical-align: middle;\n",
       "    }\n",
       "\n",
       "    .dataframe tbody tr th {\n",
       "        vertical-align: top;\n",
       "    }\n",
       "\n",
       "    .dataframe thead th {\n",
       "        text-align: right;\n",
       "    }\n",
       "</style>\n",
       "<table border=\"1\" class=\"dataframe\">\n",
       "  <thead>\n",
       "    <tr style=\"text-align: right;\">\n",
       "      <th></th>\n",
       "      <th>movie</th>\n",
       "      <th>level_x</th>\n",
       "      <th>subtitles</th>\n",
       "      <th>level_y</th>\n",
       "    </tr>\n",
       "  </thead>\n",
       "  <tbody>\n",
       "    <tr>\n",
       "      <th>0</th>\n",
       "      <td>10_Cloverfield_lane(2016)</td>\n",
       "      <td>B1</td>\n",
       "      <td>[[Fixed &amp; Synced by bozxphd. Enjoy The Flick],...</td>\n",
       "      <td>None</td>\n",
       "    </tr>\n",
       "    <tr>\n",
       "      <th>1</th>\n",
       "      <td>10_things_I_hate_about_you(1999)</td>\n",
       "      <td>B1</td>\n",
       "      <td>[[Hey!], [I'll be right with you.], [So, Camer...</td>\n",
       "      <td>None</td>\n",
       "    </tr>\n",
       "    <tr>\n",
       "      <th>2</th>\n",
       "      <td>A_knights_tale(2001)</td>\n",
       "      <td>B2</td>\n",
       "      <td>[[Resync: Xenzai[NEF], RETAIL], [Should we hel...</td>\n",
       "      <td>None</td>\n",
       "    </tr>\n",
       "    <tr>\n",
       "      <th>3</th>\n",
       "      <td>A_star_is_born(2018)</td>\n",
       "      <td>B2</td>\n",
       "      <td>[[-  Synced and corrected by mrcjnthn  -], [Ge...</td>\n",
       "      <td>None</td>\n",
       "    </tr>\n",
       "    <tr>\n",
       "      <th>4</th>\n",
       "      <td>Aladdin(1992)</td>\n",
       "      <td>B1</td>\n",
       "      <td>[[Oh, I come from a land, From a faraway place...</td>\n",
       "      <td>None</td>\n",
       "    </tr>\n",
       "    <tr>\n",
       "      <th>...</th>\n",
       "      <td>...</td>\n",
       "      <td>...</td>\n",
       "      <td>...</td>\n",
       "      <td>...</td>\n",
       "    </tr>\n",
       "    <tr>\n",
       "      <th>224</th>\n",
       "      <td>Suits.S03E06.720p.HDTV.x264-mSD</td>\n",
       "      <td>C1</td>\n",
       "      <td>[[I lost Ava her company.], [I assume my deal,...</td>\n",
       "      <td>C1</td>\n",
       "    </tr>\n",
       "    <tr>\n",
       "      <th>225</th>\n",
       "      <td>Suits.S03E07.HDTV.x264-mSD</td>\n",
       "      <td>C1</td>\n",
       "      <td>[[Previously on, Suits...], [It's going up, on...</td>\n",
       "      <td>C1</td>\n",
       "    </tr>\n",
       "    <tr>\n",
       "      <th>226</th>\n",
       "      <td>Suits.S03E08.480p.HDTV.x264-mSD</td>\n",
       "      <td>C1</td>\n",
       "      <td>[[I get Ava Hessington acquitted,], [Darby bac...</td>\n",
       "      <td>C1</td>\n",
       "    </tr>\n",
       "    <tr>\n",
       "      <th>227</th>\n",
       "      <td>Suits.S03E09.480p.HDTV.x264-mSD</td>\n",
       "      <td>C1</td>\n",
       "      <td>[[Previously on, Suits...], [I'm bonding, with...</td>\n",
       "      <td>C1</td>\n",
       "    </tr>\n",
       "    <tr>\n",
       "      <th>228</th>\n",
       "      <td>Suits.S03E10.HDTV.x264-mSD</td>\n",
       "      <td>C1</td>\n",
       "      <td>[[Previously on, Suits...], [This is a copy of...</td>\n",
       "      <td>C1</td>\n",
       "    </tr>\n",
       "  </tbody>\n",
       "</table>\n",
       "<p>229 rows × 4 columns</p>\n",
       "</div>"
      ],
      "text/plain": [
       "                                movie level_x  \\\n",
       "0           10_Cloverfield_lane(2016)      B1   \n",
       "1    10_things_I_hate_about_you(1999)      B1   \n",
       "2                A_knights_tale(2001)      B2   \n",
       "3                A_star_is_born(2018)      B2   \n",
       "4                       Aladdin(1992)      B1   \n",
       "..                                ...     ...   \n",
       "224   Suits.S03E06.720p.HDTV.x264-mSD      C1   \n",
       "225        Suits.S03E07.HDTV.x264-mSD      C1   \n",
       "226   Suits.S03E08.480p.HDTV.x264-mSD      C1   \n",
       "227   Suits.S03E09.480p.HDTV.x264-mSD      C1   \n",
       "228        Suits.S03E10.HDTV.x264-mSD      C1   \n",
       "\n",
       "                                             subtitles level_y  \n",
       "0    [[Fixed & Synced by bozxphd. Enjoy The Flick],...    None  \n",
       "1    [[Hey!], [I'll be right with you.], [So, Camer...    None  \n",
       "2    [[Resync: Xenzai[NEF], RETAIL], [Should we hel...    None  \n",
       "3    [[-  Synced and corrected by mrcjnthn  -], [Ge...    None  \n",
       "4    [[Oh, I come from a land, From a faraway place...    None  \n",
       "..                                                 ...     ...  \n",
       "224  [[I lost Ava her company.], [I assume my deal,...      C1  \n",
       "225  [[Previously on, Suits...], [It's going up, on...      C1  \n",
       "226  [[I get Ava Hessington acquitted,], [Darby bac...      C1  \n",
       "227  [[Previously on, Suits...], [I'm bonding, with...      C1  \n",
       "228  [[Previously on, Suits...], [This is a copy of...      C1  \n",
       "\n",
       "[229 rows x 4 columns]"
      ]
     },
     "execution_count": 23,
     "metadata": {},
     "output_type": "execute_result"
    }
   ],
   "source": [
    "# объединим таблицы в одну\n",
    "df = df.merge(total_subs, on='movie')\n",
    "df"
   ]
  },
  {
   "cell_type": "code",
   "execution_count": 24,
   "id": "9eb146f6",
   "metadata": {},
   "outputs": [],
   "source": [
    "# избавимся от колонки level_y\n",
    "df = df.drop('level_y', axis=1)\n",
    "\n",
    "# переименуем level_x\n",
    "df = df.rename(columns={'level_x': 'level'})"
   ]
  },
  {
   "cell_type": "code",
   "execution_count": 25,
   "id": "3135a9d3",
   "metadata": {},
   "outputs": [
    {
     "data": {
      "text/html": [
       "<div>\n",
       "<style scoped>\n",
       "    .dataframe tbody tr th:only-of-type {\n",
       "        vertical-align: middle;\n",
       "    }\n",
       "\n",
       "    .dataframe tbody tr th {\n",
       "        vertical-align: top;\n",
       "    }\n",
       "\n",
       "    .dataframe thead th {\n",
       "        text-align: right;\n",
       "    }\n",
       "</style>\n",
       "<table border=\"1\" class=\"dataframe\">\n",
       "  <thead>\n",
       "    <tr style=\"text-align: right;\">\n",
       "      <th></th>\n",
       "      <th>movie</th>\n",
       "      <th>level</th>\n",
       "      <th>subtitles</th>\n",
       "    </tr>\n",
       "  </thead>\n",
       "  <tbody>\n",
       "    <tr>\n",
       "      <th>0</th>\n",
       "      <td>10_Cloverfield_lane(2016)</td>\n",
       "      <td>B1</td>\n",
       "      <td>[[Fixed &amp; Synced by bozxphd. Enjoy The Flick],...</td>\n",
       "    </tr>\n",
       "    <tr>\n",
       "      <th>1</th>\n",
       "      <td>10_things_I_hate_about_you(1999)</td>\n",
       "      <td>B1</td>\n",
       "      <td>[[Hey!], [I'll be right with you.], [So, Camer...</td>\n",
       "    </tr>\n",
       "    <tr>\n",
       "      <th>2</th>\n",
       "      <td>A_knights_tale(2001)</td>\n",
       "      <td>B2</td>\n",
       "      <td>[[Resync: Xenzai[NEF], RETAIL], [Should we hel...</td>\n",
       "    </tr>\n",
       "    <tr>\n",
       "      <th>3</th>\n",
       "      <td>A_star_is_born(2018)</td>\n",
       "      <td>B2</td>\n",
       "      <td>[[-  Synced and corrected by mrcjnthn  -], [Ge...</td>\n",
       "    </tr>\n",
       "    <tr>\n",
       "      <th>4</th>\n",
       "      <td>Aladdin(1992)</td>\n",
       "      <td>B1</td>\n",
       "      <td>[[Oh, I come from a land, From a faraway place...</td>\n",
       "    </tr>\n",
       "    <tr>\n",
       "      <th>...</th>\n",
       "      <td>...</td>\n",
       "      <td>...</td>\n",
       "      <td>...</td>\n",
       "    </tr>\n",
       "    <tr>\n",
       "      <th>224</th>\n",
       "      <td>Suits.S03E06.720p.HDTV.x264-mSD</td>\n",
       "      <td>C1</td>\n",
       "      <td>[[I lost Ava her company.], [I assume my deal,...</td>\n",
       "    </tr>\n",
       "    <tr>\n",
       "      <th>225</th>\n",
       "      <td>Suits.S03E07.HDTV.x264-mSD</td>\n",
       "      <td>C1</td>\n",
       "      <td>[[Previously on, Suits...], [It's going up, on...</td>\n",
       "    </tr>\n",
       "    <tr>\n",
       "      <th>226</th>\n",
       "      <td>Suits.S03E08.480p.HDTV.x264-mSD</td>\n",
       "      <td>C1</td>\n",
       "      <td>[[I get Ava Hessington acquitted,], [Darby bac...</td>\n",
       "    </tr>\n",
       "    <tr>\n",
       "      <th>227</th>\n",
       "      <td>Suits.S03E09.480p.HDTV.x264-mSD</td>\n",
       "      <td>C1</td>\n",
       "      <td>[[Previously on, Suits...], [I'm bonding, with...</td>\n",
       "    </tr>\n",
       "    <tr>\n",
       "      <th>228</th>\n",
       "      <td>Suits.S03E10.HDTV.x264-mSD</td>\n",
       "      <td>C1</td>\n",
       "      <td>[[Previously on, Suits...], [This is a copy of...</td>\n",
       "    </tr>\n",
       "  </tbody>\n",
       "</table>\n",
       "<p>229 rows × 3 columns</p>\n",
       "</div>"
      ],
      "text/plain": [
       "                                movie level  \\\n",
       "0           10_Cloverfield_lane(2016)    B1   \n",
       "1    10_things_I_hate_about_you(1999)    B1   \n",
       "2                A_knights_tale(2001)    B2   \n",
       "3                A_star_is_born(2018)    B2   \n",
       "4                       Aladdin(1992)    B1   \n",
       "..                                ...   ...   \n",
       "224   Suits.S03E06.720p.HDTV.x264-mSD    C1   \n",
       "225        Suits.S03E07.HDTV.x264-mSD    C1   \n",
       "226   Suits.S03E08.480p.HDTV.x264-mSD    C1   \n",
       "227   Suits.S03E09.480p.HDTV.x264-mSD    C1   \n",
       "228        Suits.S03E10.HDTV.x264-mSD    C1   \n",
       "\n",
       "                                             subtitles  \n",
       "0    [[Fixed & Synced by bozxphd. Enjoy The Flick],...  \n",
       "1    [[Hey!], [I'll be right with you.], [So, Camer...  \n",
       "2    [[Resync: Xenzai[NEF], RETAIL], [Should we hel...  \n",
       "3    [[-  Synced and corrected by mrcjnthn  -], [Ge...  \n",
       "4    [[Oh, I come from a land, From a faraway place...  \n",
       "..                                                 ...  \n",
       "224  [[I lost Ava her company.], [I assume my deal,...  \n",
       "225  [[Previously on, Suits...], [It's going up, on...  \n",
       "226  [[I get Ava Hessington acquitted,], [Darby bac...  \n",
       "227  [[Previously on, Suits...], [I'm bonding, with...  \n",
       "228  [[Previously on, Suits...], [This is a copy of...  \n",
       "\n",
       "[229 rows x 3 columns]"
      ]
     },
     "execution_count": 25,
     "metadata": {},
     "output_type": "execute_result"
    }
   ],
   "source": [
    "# посмотрим на результат\n",
    "df"
   ]
  },
  {
   "cell_type": "code",
   "execution_count": 26,
   "id": "aef29b5e",
   "metadata": {
    "scrolled": true
   },
   "outputs": [],
   "source": [
    "# создадим функции для очистки текста\n",
    "\n",
    "stop_words = stopwords.words('english')\n",
    "nlp = spacy.load(\"en_core_web_sm\")\n",
    "\n",
    "del_n = re.compile('\\n')                # перенос каретки\n",
    "del_tags = re.compile('<[^>]*>')        # html-теги\n",
    "del_brackets = re.compile('\\([^)]*\\)')  # содержимое круглых скобок\n",
    "clean_text = re.compile('[^а-яa-z\\s]')  # все небуквенные символы кроме пробелов\n",
    "del_spaces = re.compile('\\s{2,}')       # пробелы от 2-ух подряд\n",
    "\n",
    "def prepare_text(text):\n",
    "    text = del_n.sub(' ', str(text).lower())\n",
    "    text = del_tags.sub('', text)\n",
    "    text = del_brackets.sub('', text)\n",
    "    res_text = clean_text.sub('', text)\n",
    "    return del_spaces.sub(' ', res_text)\n",
    "\n",
    "def del_stopwords(text):\n",
    "    clean_tokens = tuple(\n",
    "        map(lambda x: x if x not in stop_words else '', word_tokenize(text))\n",
    "    )\n",
    "    res_text = ' '.join(clean_tokens)\n",
    "    return res_text\n",
    "\n",
    "def lemmatize(text):    \n",
    "    lemmatized_text = ''.join(Mystem().lemmatize(text))\n",
    "    return lemmatized_text.split('|')"
   ]
  },
  {
   "cell_type": "code",
   "execution_count": 27,
   "id": "eaec4292",
   "metadata": {
    "scrolled": true
   },
   "outputs": [],
   "source": [
    "def clean_subs(sub_list):\n",
    "    filtered = []\n",
    "    for word in tqdm(range(len(sub_list))):\n",
    "        text = prepare_text(sub_list[word])\n",
    "        text = del_stopwords(text)\n",
    "        text = lemmatize(text)\n",
    "        # тест\n",
    "#        text = nlp(text)\n",
    "        filtered.append(text)\n",
    "    return filtered"
   ]
  },
  {
   "cell_type": "code",
   "execution_count": 28,
   "id": "322242f1",
   "metadata": {},
   "outputs": [
    {
     "name": "stderr",
     "output_type": "stream",
     "text": [
      "100%|████████████████████████████████████████████████████████████████████████████████| 229/229 [09:23<00:00,  2.46s/it]\n"
     ]
    }
   ],
   "source": [
    "df['subtitles'] = clean_subs(df['subtitles'])"
   ]
  },
  {
   "cell_type": "code",
   "execution_count": 29,
   "id": "4bd932b7",
   "metadata": {},
   "outputs": [
    {
     "data": {
      "text/html": [
       "<div>\n",
       "<style scoped>\n",
       "    .dataframe tbody tr th:only-of-type {\n",
       "        vertical-align: middle;\n",
       "    }\n",
       "\n",
       "    .dataframe tbody tr th {\n",
       "        vertical-align: top;\n",
       "    }\n",
       "\n",
       "    .dataframe thead th {\n",
       "        text-align: right;\n",
       "    }\n",
       "</style>\n",
       "<table border=\"1\" class=\"dataframe\">\n",
       "  <thead>\n",
       "    <tr style=\"text-align: right;\">\n",
       "      <th></th>\n",
       "      <th>movie</th>\n",
       "      <th>level</th>\n",
       "      <th>subtitles</th>\n",
       "    </tr>\n",
       "  </thead>\n",
       "  <tbody>\n",
       "    <tr>\n",
       "      <th>0</th>\n",
       "      <td>10_Cloverfield_lane(2016)</td>\n",
       "      <td>B1</td>\n",
       "      <td>[fixed synced  bozxphd enjoy  flick ben  phone...</td>\n",
       "    </tr>\n",
       "    <tr>\n",
       "      <th>1</th>\n",
       "      <td>10_things_I_hate_about_you(1999)</td>\n",
       "      <td>B1</td>\n",
       "      <td>[hey ill  right    cameron   go nine schools  ...</td>\n",
       "    </tr>\n",
       "    <tr>\n",
       "      <th>2</th>\n",
       "      <td>A_knights_tale(2001)</td>\n",
       "      <td>B2</td>\n",
       "      <td>[resync xenzainef retail   help  hes due   lis...</td>\n",
       "    </tr>\n",
       "    <tr>\n",
       "      <th>3</th>\n",
       "      <td>A_star_is_born(2018)</td>\n",
       "      <td>B2</td>\n",
       "      <td>[synced  corrected  mrcjnthn get   x black eye...</td>\n",
       "    </tr>\n",
       "    <tr>\n",
       "      <th>4</th>\n",
       "      <td>Aladdin(1992)</td>\n",
       "      <td>B1</td>\n",
       "      <td>[oh  come   land   faraway place   caravan cam...</td>\n",
       "    </tr>\n",
       "    <tr>\n",
       "      <th>...</th>\n",
       "      <td>...</td>\n",
       "      <td>...</td>\n",
       "      <td>...</td>\n",
       "    </tr>\n",
       "    <tr>\n",
       "      <th>224</th>\n",
       "      <td>Suits.S03E06.720p.HDTV.x264-mSD</td>\n",
       "      <td>C1</td>\n",
       "      <td>[ lost ava  company  assume  deal  edward  dea...</td>\n",
       "    </tr>\n",
       "    <tr>\n",
       "      <th>225</th>\n",
       "      <td>Suits.S03E07.HDTV.x264-mSD</td>\n",
       "      <td>C1</td>\n",
       "      <td>[previously  suits  going    wall tomorrow    ...</td>\n",
       "    </tr>\n",
       "    <tr>\n",
       "      <th>226</th>\n",
       "      <td>Suits.S03E08.480p.HDTV.x264-mSD</td>\n",
       "      <td>C1</td>\n",
       "      <td>[ get ava hessington acquitted darby backs   m...</td>\n",
       "    </tr>\n",
       "    <tr>\n",
       "      <th>227</th>\n",
       "      <td>Suits.S03E09.480p.HDTV.x264-mSD</td>\n",
       "      <td>C1</td>\n",
       "      <td>[previously  suits im bonding   father  speaki...</td>\n",
       "    </tr>\n",
       "    <tr>\n",
       "      <th>228</th>\n",
       "      <td>Suits.S03E10.HDTV.x264-mSD</td>\n",
       "      <td>C1</td>\n",
       "      <td>[previously  suits    copy   letter  wrote  co...</td>\n",
       "    </tr>\n",
       "  </tbody>\n",
       "</table>\n",
       "<p>229 rows × 3 columns</p>\n",
       "</div>"
      ],
      "text/plain": [
       "                                movie level  \\\n",
       "0           10_Cloverfield_lane(2016)    B1   \n",
       "1    10_things_I_hate_about_you(1999)    B1   \n",
       "2                A_knights_tale(2001)    B2   \n",
       "3                A_star_is_born(2018)    B2   \n",
       "4                       Aladdin(1992)    B1   \n",
       "..                                ...   ...   \n",
       "224   Suits.S03E06.720p.HDTV.x264-mSD    C1   \n",
       "225        Suits.S03E07.HDTV.x264-mSD    C1   \n",
       "226   Suits.S03E08.480p.HDTV.x264-mSD    C1   \n",
       "227   Suits.S03E09.480p.HDTV.x264-mSD    C1   \n",
       "228        Suits.S03E10.HDTV.x264-mSD    C1   \n",
       "\n",
       "                                             subtitles  \n",
       "0    [fixed synced  bozxphd enjoy  flick ben  phone...  \n",
       "1    [hey ill  right    cameron   go nine schools  ...  \n",
       "2    [resync xenzainef retail   help  hes due   lis...  \n",
       "3    [synced  corrected  mrcjnthn get   x black eye...  \n",
       "4    [oh  come   land   faraway place   caravan cam...  \n",
       "..                                                 ...  \n",
       "224  [ lost ava  company  assume  deal  edward  dea...  \n",
       "225  [previously  suits  going    wall tomorrow    ...  \n",
       "226  [ get ava hessington acquitted darby backs   m...  \n",
       "227  [previously  suits im bonding   father  speaki...  \n",
       "228  [previously  suits    copy   letter  wrote  co...  \n",
       "\n",
       "[229 rows x 3 columns]"
      ]
     },
     "execution_count": 29,
     "metadata": {},
     "output_type": "execute_result"
    }
   ],
   "source": [
    "df"
   ]
  },
  {
   "cell_type": "markdown",
   "id": "e7b8d616",
   "metadata": {},
   "source": [
    "## Подготовим данные к созданию модели ##"
   ]
  },
  {
   "cell_type": "code",
   "execution_count": 30,
   "id": "d6496f80",
   "metadata": {
    "scrolled": true
   },
   "outputs": [
    {
     "data": {
      "text/plain": [
       "0    [fixed synced  bozxphd enjoy  flick ben  phone...\n",
       "1    [hey ill  right    cameron   go nine schools  ...\n",
       "2    [resync xenzainef retail   help  hes due   lis...\n",
       "3    [synced  corrected  mrcjnthn get   x black eye...\n",
       "4    [oh  come   land   faraway place   caravan cam...\n",
       "Name: subtitles, dtype: object"
      ]
     },
     "metadata": {},
     "output_type": "display_data"
    },
    {
     "data": {
      "text/plain": [
       "0    B1\n",
       "1    B1\n",
       "2    B2\n",
       "3    B2\n",
       "4    B1\n",
       "Name: level, dtype: object"
      ]
     },
     "metadata": {},
     "output_type": "display_data"
    }
   ],
   "source": [
    "features = df['subtitles']\n",
    "target = df['level']\n",
    "\n",
    "display(features.head())\n",
    "display(target.head())"
   ]
  },
  {
   "cell_type": "code",
   "execution_count": 31,
   "id": "3da95168",
   "metadata": {},
   "outputs": [],
   "source": [
    "def preprocess(text):\n",
    "    # удаление символов\n",
    "    document = re.sub(r'\\W', ' ', str(text))\n",
    "    # удаление одиноко стоящих слов\n",
    "    document = re.sub(r'\\s+[a-zA-Z]\\s+', ' ', document)\n",
    "    # приведение к нижнему регистру \n",
    "    document = document.lower()\n",
    "    # токенизация\n",
    "    #document = nltk.word_tokenize(document,language = \"english\")\n",
    "    # лемматизация\n",
    "    spacy_results = nlp(document)\n",
    "    document = ' '.join([token.lemma_ for token in spacy_results])\n",
    "    return document"
   ]
  },
  {
   "cell_type": "code",
   "execution_count": 34,
   "id": "07f02d56",
   "metadata": {},
   "outputs": [],
   "source": [
    "# применим к выборке признаков функцию препроцессинга\n",
    "new_set = features.apply(preprocess)"
   ]
  },
  {
   "cell_type": "code",
   "execution_count": 35,
   "id": "f21d8d9c",
   "metadata": {},
   "outputs": [
    {
     "data": {
      "text/plain": [
       "pandas.core.series.Series"
      ]
     },
     "execution_count": 35,
     "metadata": {},
     "output_type": "execute_result"
    }
   ],
   "source": [
    "type(new_set)"
   ]
  },
  {
   "cell_type": "code",
   "execution_count": 36,
   "id": "da4fbb79",
   "metadata": {},
   "outputs": [
    {
     "data": {
      "text/plain": [
       "array([[0, 0, 0, ..., 0, 0, 0],\n",
       "       [0, 0, 0, ..., 0, 0, 0],\n",
       "       [0, 0, 0, ..., 0, 0, 0],\n",
       "       ...,\n",
       "       [0, 0, 0, ..., 0, 0, 0],\n",
       "       [1, 0, 0, ..., 0, 0, 0],\n",
       "       [0, 0, 0, ..., 0, 0, 0]], dtype=int64)"
      ]
     },
     "execution_count": 36,
     "metadata": {},
     "output_type": "execute_result"
    }
   ],
   "source": [
    "# векторизиурем выборку признаков \n",
    "vectorizer = CountVectorizer(stop_words = stop_words)\n",
    "vectorized_subs = vectorizer.fit_transform(new_set).toarray()\n",
    "vectorized_subs"
   ]
  },
  {
   "cell_type": "code",
   "execution_count": 37,
   "id": "f24589dc",
   "metadata": {},
   "outputs": [
    {
     "data": {
      "text/html": [
       "<div>\n",
       "<style scoped>\n",
       "    .dataframe tbody tr th:only-of-type {\n",
       "        vertical-align: middle;\n",
       "    }\n",
       "\n",
       "    .dataframe tbody tr th {\n",
       "        vertical-align: top;\n",
       "    }\n",
       "\n",
       "    .dataframe thead th {\n",
       "        text-align: right;\n",
       "    }\n",
       "</style>\n",
       "<table border=\"1\" class=\"dataframe\">\n",
       "  <thead>\n",
       "    <tr style=\"text-align: right;\">\n",
       "      <th></th>\n",
       "      <th>Sample</th>\n",
       "      <th>Train</th>\n",
       "      <th>Test</th>\n",
       "    </tr>\n",
       "  </thead>\n",
       "  <tbody>\n",
       "    <tr>\n",
       "      <th>0</th>\n",
       "      <td>features</td>\n",
       "      <td>(148, 33064)</td>\n",
       "      <td>(81, 33064)</td>\n",
       "    </tr>\n",
       "    <tr>\n",
       "      <th>1</th>\n",
       "      <td>target</td>\n",
       "      <td>(148,)</td>\n",
       "      <td>(81,)</td>\n",
       "    </tr>\n",
       "  </tbody>\n",
       "</table>\n",
       "</div>"
      ],
      "text/plain": [
       "     Sample         Train         Test\n",
       "0  features  (148, 33064)  (81, 33064)\n",
       "1    target        (148,)        (81,)"
      ]
     },
     "execution_count": 37,
     "metadata": {},
     "output_type": "execute_result"
    }
   ],
   "source": [
    "features_train, features_test, target_train, target_test = train_test_split(vectorized_subs, \n",
    "                                                                            target, test_size = 0.35, \n",
    "                                                                            random_state = 69)\n",
    "pd.DataFrame(\n",
    "    {\n",
    "        'Sample': ['features', 'target'],\n",
    "        'Train': [features_train.shape, target_train.shape],\n",
    "        'Test': [features_test.shape, target_test.shape]\n",
    "    })"
   ]
  },
  {
   "cell_type": "markdown",
   "id": "97efb940",
   "metadata": {},
   "source": [
    "## Обучим модели ##"
   ]
  },
  {
   "cell_type": "markdown",
   "id": "31922e96",
   "metadata": {},
   "source": [
    "### CatBoostClf ###"
   ]
  },
  {
   "cell_type": "code",
   "execution_count": 70,
   "id": "cc062f2a",
   "metadata": {},
   "outputs": [
    {
     "data": {
      "text/plain": [
       "<catboost.core.CatBoostClassifier at 0x18be78d7c70>"
      ]
     },
     "execution_count": 70,
     "metadata": {},
     "output_type": "execute_result"
    }
   ],
   "source": [
    "train_pool = Pool(features_train, \n",
    "                  target_train)\n",
    "\n",
    "test_pool = Pool(features_test, target_test) \n",
    "\n",
    "catboost_model = CatBoostClassifier(verbose=False,\n",
    "                                    learning_rate=0.99,\n",
    "                                    iterations=79\n",
    "                          )\n",
    "catboost_model.fit(train_pool)"
   ]
  },
  {
   "cell_type": "code",
   "execution_count": 71,
   "id": "47dc56d3",
   "metadata": {},
   "outputs": [
    {
     "name": "stdout",
     "output_type": "stream",
     "text": [
      "0.7145914168136391\n"
     ]
    }
   ],
   "source": [
    "predict_test = catboost_model.predict(features_test)\n",
    "print(f1_score(target_test, predict_test, average='weighted'))"
   ]
  },
  {
   "cell_type": "code",
   "execution_count": 41,
   "id": "5c6ba7ab",
   "metadata": {
    "scrolled": false
   },
   "outputs": [
    {
     "data": {
      "image/png": "[encoded data removed]",
      "text/plain": [
       "<Figure size 640x480 with 2 Axes>"
      ]
     },
     "metadata": {},
     "output_type": "display_data"
    },
    {
     "data": {
      "image/png": "[encoded data removed]",
      "text/plain": [
       "<Figure size 640x480 with 1 Axes>"
      ]
     },
     "metadata": {},
     "output_type": "display_data"
    }
   ],
   "source": [
    "def conf_matrix(target, predictions, labels):\n",
    "    cm = confusion_matrix(target, predictions, labels = labels)\n",
    "    disp = ConfusionMatrixDisplay(confusion_matrix=cm,\n",
    "    display_labels=labels)\n",
    "    disp.plot()\n",
    "    return plt.show()\n",
    "\n",
    "conf_matrix(target_test, predict_test, catboost_model.classes_)\n",
    "target.hist();"
   ]
  },
  {
   "cell_type": "markdown",
   "id": "576d5731",
   "metadata": {},
   "source": [
    "**Вывод по модели Катбуста:** После обучения модели мы получили метрику в ~0.75 взвешенного среднего гармонического, что является неплохим показателем. Также на \"матрице путницы\" мы видим, что наибольшее число ошибок при классификации приходится на класс B2, однако это связано с его преобладанием в выборке.\n",
    "\n",
    "Теперь перекодируем признаки при помощи TfIdf векторизатора, создадим пйплайн и обучим модель с его помощью. После сравним результаты."
   ]
  },
  {
   "cell_type": "code",
   "execution_count": 42,
   "id": "c639ec42",
   "metadata": {},
   "outputs": [],
   "source": [
    "def search_best_estimator(pipeline, param_grid, x, y): \n",
    "    hrs = GridSearchCV(\n",
    "        estimator=pipeline,\n",
    "        param_grid=param_grid,\n",
    "        scoring='f1_weighted',\n",
    "        cv=3,\n",
    "        n_jobs=-1,\n",
    "    )\n",
    "    _ = hrs.fit(x, y)\n",
    "    return hrs.best_estimator_"
   ]
  },
  {
   "cell_type": "code",
   "execution_count": 46,
   "id": "3805be35",
   "metadata": {},
   "outputs": [
    {
     "name": "stdout",
     "output_type": "stream",
     "text": [
      "0.49676374773431137\n"
     ]
    }
   ],
   "source": [
    "vectorizer = TfidfVectorizer(min_df=30)\n",
    "vect_x = vectorizer.fit_transform(new_set)\n",
    "\n",
    "nm = NearMiss()\n",
    "X_res, Y_res = nm.fit_resample(vect_x, target)\n",
    "pipeline2 = Pipeline( steps = [(\"base\", RandomForestClassifier() )]  )\n",
    "param_grid2 = {\n",
    "        \"base__n_estimators\": [i for i in range(200,300,50)],\n",
    "        \"base__max_depth\": [i for i in range(25,35,5)],\n",
    "        \"base__min_samples_split\": [i for i in range(8,12,2)],\n",
    "}\n",
    "\n",
    "estimator2 = search_best_estimator(pipeline2, param_grid2, X_res, Y_res) #  \n",
    "\n",
    "X_train, X_test, y_train, y_test = train_test_split(\n",
    "    vect_x, target, random_state=69, test_size=0.35\n",
    ")\n",
    "\n",
    "estimator2.fit(X_res, Y_res)\n",
    "y_preds2 = estimator2.predict(X_test)\n",
    "print(f1_score(y_test, y_preds2, average='weighted'))"
   ]
  },
  {
   "cell_type": "code",
   "execution_count": 47,
   "id": "30d1f6c8",
   "metadata": {},
   "outputs": [
    {
     "data": {
      "image/png": "[encoded data removed]",
      "text/plain": [
       "<Figure size 640x480 with 2 Axes>"
      ]
     },
     "metadata": {},
     "output_type": "display_data"
    }
   ],
   "source": [
    "conf_matrix(y_test, y_preds2, estimator2.classes_)"
   ]
  },
  {
   "cell_type": "markdown",
   "id": "4ac8073f",
   "metadata": {},
   "source": [
    "После проверки двух моделей CBC и TfidfVectorizer мы выбираем CBC. Её мы в дальнейшеим имплеметнируем через Streamlit для полноценного использования."
   ]
  },
  {
   "cell_type": "code",
   "execution_count": null,
   "id": "f555ec34",
   "metadata": {},
   "outputs": [],
   "source": [
    "with open(\"D:/workplace/data_science/jupyter/projects/english_skillz/catboost_clf.pcl\", 'wb') as fid:\n",
    "    joblib.dump(catboost_model, fid)"
   ]
  },
  {
   "cell_type": "markdown",
   "id": "c6109adc",
   "metadata": {},
   "source": [
    "## Заключение ##\n",
    "\n",
    "В ходе проекта мы смогли создать датасет из более чем двухсот фильмов, для которых импортировали субтитры, разбили их по словам, векторизировали и на основе них обучили модель градиентного бустинга, давшей нам по итогу значение гармонического среднего в ~0.75."
   ]
  },
  {
   "cell_type": "markdown",
   "id": "66c67b4c",
   "metadata": {},
   "source": [
    "## Ссылки: ##\n",
    "**GitHUB:** https://github.com/Vasart-ds/CEFR_predicting <br>\n",
    "**Streamlit:**: https://vasart-ds-cefr-predicting-streamlit-app-mmvt1q.streamlit.app/"
   ]
  },
  {
   "cell_type": "code",
   "execution_count": null,
   "id": "d3b1272a",
   "metadata": {},
   "outputs": [],
   "source": []
  }
 ],
 "metadata": {
  "kernelspec": {
   "display_name": "Python 3 (ipykernel)",
   "language": "python",
   "name": "python3"
  },
  "language_info": {
   "codemirror_mode": {
    "name": "ipython",
    "version": 3
   },
   "file_extension": ".py",
   "mimetype": "text/x-python",
   "name": "python",
   "nbconvert_exporter": "python",
   "pygments_lexer": "ipython3",
   "version": "3.10.9"
  },
  "toc": {
   "base_numbering": 1,
   "nav_menu": {},
   "number_sections": true,
   "sideBar": true,
   "skip_h1_title": false,
   "title_cell": "Table of Contents",
   "title_sidebar": "Contents",
   "toc_cell": false,
   "toc_position": {},
   "toc_section_display": true,
   "toc_window_display": false
  }
 },
 "nbformat": 4,
 "nbformat_minor": 5
}
